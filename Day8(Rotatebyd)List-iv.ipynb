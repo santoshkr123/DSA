{
 "cells": [
  {
   "cell_type": "markdown",
   "id": "c903fd8c-a7b9-4618-a7d4-ffbfa9f4ebba",
   "metadata": {},
   "source": [
    "# rotatebyd(left rotation)"
   ]
  },
  {
   "cell_type": "code",
   "execution_count": 16,
   "id": "4c771310-6cd8-486f-8fc5-0b0533e4dd8f",
   "metadata": {},
   "outputs": [
    {
     "name": "stdout",
     "output_type": "stream",
     "text": [
      "[3, 4, 5, 6, 7, 1, 2]\n"
     ]
    }
   ],
   "source": [
    "def rotatebyd(arr,d):\n",
    "    n=len(arr)\n",
    "    d%=n\n",
    "    rotated=arr[d:]+arr[:d]\n",
    "    for i in range(n):\n",
    "        arr[i]=rotated[i]\n",
    "\n",
    "arr = [1, 2, 3, 4, 5, 6, 7]\n",
    "d=2\n",
    "rotatebyd(arr,2)\n",
    "print(arr)\n",
    "\n",
    "\n",
    "        \n",
    "    "
   ]
  },
  {
   "cell_type": "markdown",
   "id": "e3603de9-4a35-4fd2-8f3a-25ca95e7c5d9",
   "metadata": {},
   "source": [
    "# rotatebyd(right rotation)"
   ]
  },
  {
   "cell_type": "code",
   "execution_count": 12,
   "id": "45065432-5d11-4d15-a8a4-764037a2fe5e",
   "metadata": {},
   "outputs": [
    {
     "name": "stdout",
     "output_type": "stream",
     "text": [
      "[6, 7, 1, 2, 3, 4, 5]\n"
     ]
    }
   ],
   "source": [
    "def rotatebyd(arr,d):\n",
    "    n=len(arr)\n",
    "    d%=n\n",
    "    rotated=arr[-d:]+arr[:-d]\n",
    "    for i in range(n):\n",
    "        arr[i]=rotated[i]\n",
    "\n",
    "arr = [1, 2, 3, 4, 5, 6, 7]\n",
    "d=2\n",
    "rotatebyd(arr,2)\n",
    "print(arr)\n",
    "\n",
    "\n"
   ]
  },
  {
   "cell_type": "code",
   "execution_count": null,
   "id": "3c31a837-ba23-4093-903c-ff0893a1499b",
   "metadata": {},
   "outputs": [],
   "source": []
  }
 ],
 "metadata": {
  "kernelspec": {
   "display_name": "Python [conda env:base] *",
   "language": "python",
   "name": "conda-base-py"
  },
  "language_info": {
   "codemirror_mode": {
    "name": "ipython",
    "version": 3
   },
   "file_extension": ".py",
   "mimetype": "text/x-python",
   "name": "python",
   "nbconvert_exporter": "python",
   "pygments_lexer": "ipython3",
   "version": "3.12.7"
  }
 },
 "nbformat": 4,
 "nbformat_minor": 5
}
