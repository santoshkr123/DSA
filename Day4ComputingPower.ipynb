{
 "cells": [
  {
   "cell_type": "markdown",
   "id": "493ecf92-aba6-4bb1-958b-aa14e2364753",
   "metadata": {},
   "source": [
    "# Computing power"
   ]
  },
  {
   "cell_type": "markdown",
   "id": "9525495e-4dfc-403f-80c8-5ba81cfabe7a",
   "metadata": {},
   "source": [
    "# naive solution"
   ]
  },
  {
   "cell_type": "code",
   "execution_count": 6,
   "id": "a86e6e02-940f-4908-95a7-a62a4dd0d496",
   "metadata": {},
   "outputs": [
    {
     "data": {
      "text/plain": [
       "27"
      ]
     },
     "execution_count": 6,
     "metadata": {},
     "output_type": "execute_result"
    }
   ],
   "source": [
    "def power(x,n):\n",
    "    res=1\n",
    "    for i in range(n):\n",
    "        res=res*x\n",
    "    return res  \n",
    "power(3,3)"
   ]
  },
  {
   "cell_type": "markdown",
   "id": "79871218-65ed-4700-925f-eee8e102cd54",
   "metadata": {},
   "source": [
    "# efficient solution"
   ]
  },
  {
   "cell_type": "code",
   "execution_count": 9,
   "id": "9ed80250-c7f6-4772-8767-b72261c47179",
   "metadata": {},
   "outputs": [
    {
     "data": {
      "text/plain": [
       "27"
      ]
     },
     "execution_count": 9,
     "metadata": {},
     "output_type": "execute_result"
    }
   ],
   "source": [
    "def power(x,n):\n",
    "    if n==0:\n",
    "        return 1\n",
    "    temp=power(x,n//2)\n",
    "    temp=temp*temp\n",
    "    if n%2==0:\n",
    "        return temp\n",
    "    else:\n",
    "        return temp*x\n",
    "\n",
    "power(3,3)\n",
    "        "
   ]
  },
  {
   "cell_type": "markdown",
   "id": "5e28d6fb-bd34-4f23-800f-3d7127946479",
   "metadata": {},
   "source": [
    "# Itertative Power(Binary Exponentiation)"
   ]
  },
  {
   "cell_type": "code",
   "execution_count": null,
   "id": "3d3f81a3-b235-40ad-bff6-6c8647332758",
   "metadata": {},
   "outputs": [],
   "source": [
    "def power(x,n):\n",
    "    res=1\n",
    "    while n>0:\n",
    "        if n%2!=0:\n",
    "            res=res*x\n",
    "        x=x*x\n",
    "        n=n//2\n",
    "    return res    \n",
    "\n",
    "power(3,3)\n"
   ]
  },
  {
   "cell_type": "code",
   "execution_count": null,
   "id": "5d3ef63d-a96e-45eb-8d47-1e6472a94732",
   "metadata": {},
   "outputs": [],
   "source": [
    "def power(x,n):\n",
    "    res=1\n",
    "    while n>0:\n",
    "        if n&1:\n",
    "            res=res*x\n",
    "        x=x*x\n",
    "        n=n>>1\n",
    "    return res\n",
    "\n",
    "power(3,3)\n"
   ]
  },
  {
   "cell_type": "code",
   "execution_count": null,
   "id": "ecbf9eeb-6d59-46d9-b966-408772f8c7fd",
   "metadata": {},
   "outputs": [],
   "source": [
    "def power(x,n,m):\n",
    "    res=1\n",
    "    while n>0:\n",
    "        if n&1:\n",
    "            res=(res*x) % m\n",
    "        x=(x*x)%m\n",
    "        n=n>>1\n",
    "    return res\n",
    "\n",
    "power(3,3)\n"
   ]
  },
  {
   "cell_type": "code",
   "execution_count": null,
   "id": "5e6f70e8-989d-459c-a5fb-b86c443ee6d9",
   "metadata": {},
   "outputs": [],
   "source": []
  }
 ],
 "metadata": {
  "kernelspec": {
   "display_name": "Python [conda env:base] *",
   "language": "python",
   "name": "conda-base-py"
  },
  "language_info": {
   "codemirror_mode": {
    "name": "ipython",
    "version": 3
   },
   "file_extension": ".py",
   "mimetype": "text/x-python",
   "name": "python",
   "nbconvert_exporter": "python",
   "pygments_lexer": "ipython3",
   "version": "3.12.7"
  }
 },
 "nbformat": 4,
 "nbformat_minor": 5
}
