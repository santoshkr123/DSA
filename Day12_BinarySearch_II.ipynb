{
 "cells": [
  {
   "cell_type": "markdown",
   "id": "fe81195a-e902-4403-b78d-a5b66b43c016",
   "metadata": {},
   "source": [
    "# Binary Search_II\n",
    "# Index of First Occurrence"
   ]
  },
  {
   "cell_type": "code",
   "execution_count": null,
   "id": "dba01538-9396-4f6c-b08b-fa6dfac6f727",
   "metadata": {},
   "outputs": [],
   "source": [
    "def firstOcc(arr,x):\n",
    "    low=0\n",
    "    high=len(arr)-1\n",
    "    while low<=high:\n",
    "        mid=(low+high)//2\n",
    "        if arr[mid]<x:\n",
    "            low=mid+1\n",
    "        elif arr[mid]>x:\n",
    "            high=mid-1\n",
    "        else:\n",
    "            if mid==0 or arr[mid-1]!=arr[mid]:\n",
    "                return mid\n",
    "            else:\n",
    "                high=mid-1\n",
    "    return -1            \n",
    "\n",
    "arr=[5,10,10,20,20]\n",
    "x=10\n",
    "first=firstOcc(arr,x)\n",
    "print(first)"
   ]
  },
  {
   "cell_type": "markdown",
   "id": "8018a79d-0edc-4296-ae91-157d5812134d",
   "metadata": {},
   "source": [
    "# Last Index Of Occurrence"
   ]
  },
  {
   "cell_type": "code",
   "execution_count": null,
   "id": "22df2fd5-bb03-4721-a98b-2dbf688e128d",
   "metadata": {},
   "outputs": [],
   "source": [
    "def lastOcc(arr,x):\n",
    "    low=0\n",
    "    high=len(arr)-1\n",
    "    while low<=high:\n",
    "        mid=(low+high)//2\n",
    "        if arr[mid]<x:\n",
    "            low=mid+1\n",
    "        elif arr[mid]>x:\n",
    "            high=mid-1\n",
    "        else:\n",
    "            if mid==len(arr)-1 or arr[mid]!=arr[mid+1]:\n",
    "                return mid\n",
    "    return -1            \n",
    "\n",
    "\n",
    "arr=[5,10,10,10,10,20,20]\n",
    "x=10\n",
    "last=lastOcc(arr,x)\n",
    "print(last)\n",
    "        \n",
    "        \n",
    "    "
   ]
  },
  {
   "cell_type": "markdown",
   "id": "c36950b0-d3ad-4b94-8c45-02d0213bc42b",
   "metadata": {},
   "source": [
    "# Count Occurrence in a sorted array"
   ]
  },
  {
   "cell_type": "code",
   "execution_count": null,
   "id": "3189501c-89a7-4829-bd28-054b6849d9c4",
   "metadata": {},
   "outputs": [],
   "source": [
    "def firstOcc(arr,x):\n",
    "    low=0\n",
    "    high=len(arr)-1\n",
    "    while low<=high:\n",
    "        mid=(low+high)//2\n",
    "        if arr[mid]<x:\n",
    "            low=mid+1\n",
    "        elif arr[mid]>x:\n",
    "            high=mid-1\n",
    "        else:\n",
    "            if arr[mid]==0 or arr[mid-1]!=arr[mid]:\n",
    "                return mid\n",
    "            else:\n",
    "                high=mid-1\n",
    "    return -1            \n",
    "\n",
    "\n",
    "\n",
    "\n",
    "\n",
    "\n",
    "\n",
    "\n",
    "def lastOcc(arr,x):\n",
    "    low=0\n",
    "    high=len(arr)-1\n",
    "    while low<=high:\n",
    "        mid=(low+high)//2\n",
    "        if arr[mid]<x:\n",
    "            low=mid+1\n",
    "        elif arr[mid]>x:\n",
    "            high=mid-1\n",
    "        else:\n",
    "            if arr[mid]==len(arr)-1 or arr[mid]!=arr[mid+1]:\n",
    "                return mid\n",
    "\n",
    "\n",
    "\n",
    "def countOcc(arr,x):\n",
    "    first=firstOcc(arr,x)\n",
    "    if first==-1:\n",
    "        return 0\n",
    "    else:\n",
    "        return lastOcc(arr,x) - first+1\n",
    "\n",
    "\n",
    "arr = [1, 2, 2, 2, 3, 4, 5]\n",
    "x = 2\n",
    "print(countOcc(arr, x))\n",
    "    \n",
    "\n",
    "\n",
    "\n",
    "        \n",
    "        \n",
    "    "
   ]
  },
  {
   "cell_type": "code",
   "execution_count": null,
   "id": "a6925b65-5e1b-4058-9277-be45710c4651",
   "metadata": {},
   "outputs": [],
   "source": []
  }
 ],
 "metadata": {
  "kernelspec": {
   "display_name": "Python [conda env:base] *",
   "language": "python",
   "name": "conda-base-py"
  },
  "language_info": {
   "codemirror_mode": {
    "name": "ipython",
    "version": 3
   },
   "file_extension": ".py",
   "mimetype": "text/x-python",
   "name": "python",
   "nbconvert_exporter": "python",
   "pygments_lexer": "ipython3",
   "version": "3.12.7"
  }
 },
 "nbformat": 4,
 "nbformat_minor": 5
}
