{
 "cells": [
  {
   "cell_type": "markdown",
   "id": "fa0e44d2-5c64-476f-b8ea-ed79a6c17b14",
   "metadata": {},
   "source": [
    "# Binary search"
   ]
  },
  {
   "cell_type": "code",
   "execution_count": null,
   "id": "34ddef94-1bf9-4f37-ac50-b8ae9e2c309b",
   "metadata": {},
   "outputs": [],
   "source": [
    "def bSearch(l,x):\n",
    "    low=0\n",
    "    high=len(l)-1\n",
    "    while low<=high:\n",
    "        mid=low+high//2\n",
    "        if l[mid]==x:\n",
    "            return mid\n",
    "        elif l[mid]<x:\n",
    "            low=mid+1\n",
    "        else:\n",
    "            high=mid-1\n",
    "    return -1\n",
    "\n",
    "l=[10,20,30,40,50,60]\n",
    "x=40\n",
    "binary=bSearch(l,x)\n",
    "print(binary)\n",
    "\n",
    "\n",
    "       \n",
    "\n"
   ]
  },
  {
   "cell_type": "markdown",
   "id": "0a7fe55b-af5f-4cd1-85f4-ce8758bf4ff8",
   "metadata": {},
   "source": [
    "# Binary search in Recursion"
   ]
  },
  {
   "cell_type": "code",
   "execution_count": null,
   "id": "444a9c15-3712-4f4c-88ba-921d734bee58",
   "metadata": {},
   "outputs": [],
   "source": [
    "def bSearch(l,x,low,high):\n",
    "    if low>high:\n",
    "        return -1\n",
    "    mid=(low+high)//2\n",
    "    if l[mid]==x:\n",
    "        return mid\n",
    "    elif l[mid]>x:\n",
    "        return bSearch(l,x,low,mid-1)\n",
    "    else:\n",
    "        return bSearch(l,x,mid+1,high)\n",
    "\n",
    "def bSearchMain(l,x):\n",
    "    return bSearch(l,x,0,len(l)-1)\n",
    "\n",
    "l = [10, 20, 30, 40, 50, 60]\n",
    "x = 40\n",
    "binary = bSearchMain(l, x)\n",
    "print(binary) \n"
   ]
  },
  {
   "cell_type": "code",
   "execution_count": null,
   "id": "218704ba-e0f3-4482-a356-a978e5f8549c",
   "metadata": {},
   "outputs": [],
   "source": []
  }
 ],
 "metadata": {
  "kernelspec": {
   "display_name": "Python [conda env:base] *",
   "language": "python",
   "name": "conda-base-py"
  },
  "language_info": {
   "codemirror_mode": {
    "name": "ipython",
    "version": 3
   },
   "file_extension": ".py",
   "mimetype": "text/x-python",
   "name": "python",
   "nbconvert_exporter": "python",
   "pygments_lexer": "ipython3",
   "version": "3.12.7"
  }
 },
 "nbformat": 4,
 "nbformat_minor": 5
}
