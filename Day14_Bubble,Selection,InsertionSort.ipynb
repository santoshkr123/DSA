{
 "cells": [
  {
   "cell_type": "markdown",
   "id": "6983440a-7bce-47b2-a897-663d4f69e20e",
   "metadata": {},
   "source": [
    "# BubbleSort"
   ]
  },
  {
   "cell_type": "code",
   "execution_count": 27,
   "id": "7b3ed942-640e-4421-9466-2a609d73f48f",
   "metadata": {},
   "outputs": [
    {
     "name": "stdout",
     "output_type": "stream",
     "text": [
      "[2, 7, 8, 10]\n"
     ]
    }
   ],
   "source": [
    "def bubbleSort(l):\n",
    "    n=len(l)\n",
    "    for i in range(n-1):\n",
    "        for j in range(n-i-1):\n",
    "            if l[j]>l[j+1]:\n",
    "                l[j],l[j+1]=l[j+1],l[j]\n",
    "\n",
    "l=[2,10,8,7]\n",
    "bubbleSort(l)\n",
    "print(l)\n"
   ]
  },
  {
   "cell_type": "markdown",
   "id": "184a4fd0-00c9-4639-a36e-2e4763456386",
   "metadata": {},
   "source": [
    "# bubblesort-opimised version"
   ]
  },
  {
   "cell_type": "code",
   "execution_count": 34,
   "id": "a691e537-ee4f-433c-92b0-92da91168205",
   "metadata": {},
   "outputs": [
    {
     "name": "stdout",
     "output_type": "stream",
     "text": [
      "[2, 7, 8, 10]\n"
     ]
    }
   ],
   "source": [
    "def bubbleSort(l):\n",
    "    n=len(l)\n",
    "    for i in range(n-1):\n",
    "        swapped=False\n",
    "        for j in range(n-i-1):\n",
    "            if l[j]>l[j+1]:\n",
    "                l[j],l[j+1]=l[j+1],l[j]\n",
    "                swapped=True\n",
    "        if swapped==False:\n",
    "            return\n",
    "\n",
    "\n",
    "l=[2,10,8,7]\n",
    "bubbleSort(l)\n",
    "print(l)\n",
    "        \n",
    "\n"
   ]
  },
  {
   "cell_type": "markdown",
   "id": "8fe10980-1abe-40b4-a76a-8d629c360f91",
   "metadata": {},
   "source": [
    "# SelectionSort"
   ]
  },
  {
   "cell_type": "code",
   "execution_count": 37,
   "id": "2e11061e-a014-4dc2-8862-1dba23e5b7b4",
   "metadata": {},
   "outputs": [
    {
     "name": "stdout",
     "output_type": "stream",
     "text": [
      "[2, 5, 8, 10, 18, 20]\n"
     ]
    }
   ],
   "source": [
    "def selectSort(l):\n",
    "    n=len(l)\n",
    "    for i in range(n-1):\n",
    "        min_ind=i\n",
    "        for j in range(i+1,n):\n",
    "            if l[j]<l[min_ind]:\n",
    "                min_ind=j\n",
    "        l[min_ind],l[i]=l[i],l[min_ind]\n",
    "\n",
    "l=[10,5,8,20,2,18]\n",
    "selectSort(l)\n",
    "print(l)"
   ]
  },
  {
   "cell_type": "markdown",
   "id": "93b2c2af-6338-4cd2-b698-b74b8896c090",
   "metadata": {},
   "source": [
    "# Insertion Sort"
   ]
  },
  {
   "cell_type": "code",
   "execution_count": 40,
   "id": "c84b916e-9e71-4018-a829-4a1407eb8d63",
   "metadata": {},
   "outputs": [
    {
     "ename": "TypeError",
     "evalue": "'list' object cannot be interpreted as an integer",
     "output_type": "error",
     "traceback": [
      "\u001b[1;31m---------------------------------------------------------------------------\u001b[0m",
      "\u001b[1;31mTypeError\u001b[0m                                 Traceback (most recent call last)",
      "Cell \u001b[1;32mIn[40], line 11\u001b[0m\n\u001b[0;32m      8\u001b[0m             l[j\u001b[38;5;241m+\u001b[39m\u001b[38;5;241m1\u001b[39m]\u001b[38;5;241m=\u001b[39mx\n\u001b[0;32m     10\u001b[0m l\u001b[38;5;241m=\u001b[39m[\u001b[38;5;241m20\u001b[39m,\u001b[38;5;241m5\u001b[39m,\u001b[38;5;241m40\u001b[39m,\u001b[38;5;241m60\u001b[39m,\u001b[38;5;241m10\u001b[39m,\u001b[38;5;241m30\u001b[39m]\n\u001b[1;32m---> 11\u001b[0m insertionSort(l)\n\u001b[0;32m     12\u001b[0m \u001b[38;5;28mprint\u001b[39m(l)\n",
      "Cell \u001b[1;32mIn[40], line 2\u001b[0m, in \u001b[0;36minsertionSort\u001b[1;34m(l)\u001b[0m\n\u001b[0;32m      1\u001b[0m \u001b[38;5;28;01mdef\u001b[39;00m \u001b[38;5;21minsertionSort\u001b[39m(l):\n\u001b[1;32m----> 2\u001b[0m     \u001b[38;5;28;01mfor\u001b[39;00m i \u001b[38;5;129;01min\u001b[39;00m \u001b[38;5;28mrange\u001b[39m(l,\u001b[38;5;28mlen\u001b[39m(l)):\n\u001b[0;32m      3\u001b[0m         x\u001b[38;5;241m=\u001b[39ml[i]\n\u001b[0;32m      4\u001b[0m         j\u001b[38;5;241m=\u001b[39mi\u001b[38;5;241m-\u001b[39m\u001b[38;5;241m1\u001b[39m\n",
      "\u001b[1;31mTypeError\u001b[0m: 'list' object cannot be interpreted as an integer"
     ]
    }
   ],
   "source": [
    "def insertionSort(l):\n",
    "    for i in range(l,len(l)):\n",
    "        x=l[i]\n",
    "        j=i-1\n",
    "        while j>=0 and x<l[j]:\n",
    "            l[j+1]=l[j]\n",
    "            j=j-1\n",
    "            l[j+1]=x\n",
    "\n",
    "l=[20,5,40,60,10,30]\n",
    "insertionSort(l)\n",
    "print(l)\n"
   ]
  },
  {
   "cell_type": "code",
   "execution_count": null,
   "id": "56b1bee2-10c2-4fa3-a918-8916300b3549",
   "metadata": {},
   "outputs": [],
   "source": []
  }
 ],
 "metadata": {
  "kernelspec": {
   "display_name": "Python [conda env:base] *",
   "language": "python",
   "name": "conda-base-py"
  },
  "language_info": {
   "codemirror_mode": {
    "name": "ipython",
    "version": 3
   },
   "file_extension": ".py",
   "mimetype": "text/x-python",
   "name": "python",
   "nbconvert_exporter": "python",
   "pygments_lexer": "ipython3",
   "version": "3.12.7"
  }
 },
 "nbformat": 4,
 "nbformat_minor": 5
}
