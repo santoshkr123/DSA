{
 "cells": [
  {
   "cell_type": "markdown",
   "id": "f590b6ca-1cbc-4aa9-bbc6-c1042b20e18e",
   "metadata": {},
   "source": [
    "# Palindrom Number"
   ]
  },
  {
   "cell_type": "code",
   "execution_count": 5,
   "id": "51f1d811-6fc7-4dcd-99e3-c9489ac404bf",
   "metadata": {},
   "outputs": [
    {
     "name": "stdout",
     "output_type": "stream",
     "text": [
      "True\n"
     ]
    }
   ],
   "source": [
    "def isPalin(n):\n",
    "    rev=0\n",
    "    temp=n\n",
    "    while temp!=0:\n",
    "        d=temp % 10\n",
    "        rev=rev*10+d\n",
    "        temp=temp//10\n",
    "    return rev==n    \n",
    "\n",
    "number=4554\n",
    "print(isPalin(number))"
   ]
  },
  {
   "cell_type": "markdown",
   "id": "facaa33e-3288-484d-874e-291081d9d6fd",
   "metadata": {},
   "source": [
    "# factorial number"
   ]
  },
  {
   "cell_type": "code",
   "execution_count": 8,
   "id": "2ffec29a-aeda-4ff2-b796-2a1b7bd7b083",
   "metadata": {},
   "outputs": [
    {
     "name": "stdout",
     "output_type": "stream",
     "text": [
      "120\n"
     ]
    }
   ],
   "source": [
    "def fact(n):\n",
    "    res=1\n",
    "    for i in range(2,n+1):\n",
    "        res=res*i\n",
    "    return res\n",
    "num=5\n",
    "print(fact(num))"
   ]
  },
  {
   "cell_type": "code",
   "execution_count": 10,
   "id": "9de4e597-a013-4235-ac5b-a99330cc425c",
   "metadata": {},
   "outputs": [
    {
     "name": "stdout",
     "output_type": "stream",
     "text": [
      "120\n"
     ]
    }
   ],
   "source": [
    "def fact(n):\n",
    "    if n==0:\n",
    "        return 1\n",
    "    return n*fact(n-1)\n",
    "num=5\n",
    "print(fact(num))"
   ]
  },
  {
   "cell_type": "markdown",
   "id": "f5a76a5b-5d4e-4510-93aa-d672b8b02bee",
   "metadata": {},
   "source": [
    "# GCD"
   ]
  },
  {
   "cell_type": "code",
   "execution_count": 13,
   "id": "235685cb-3115-490d-bc0b-badfa68bf401",
   "metadata": {},
   "outputs": [
    {
     "name": "stdout",
     "output_type": "stream",
     "text": [
      "3\n"
     ]
    }
   ],
   "source": [
    "def gcd(a,b):\n",
    "    while a!=b:\n",
    "        if a>b:\n",
    "            a=a-b\n",
    "        else:\n",
    "            b=b-a\n",
    "    return a \n",
    "print(gcd(12,15))"
   ]
  },
  {
   "cell_type": "code",
   "execution_count": 15,
   "id": "013a548e-2f1f-4f2b-9843-276e0327d3a3",
   "metadata": {},
   "outputs": [
    {
     "name": "stdout",
     "output_type": "stream",
     "text": [
      "3\n"
     ]
    }
   ],
   "source": [
    "def gcd(a,b):\n",
    "    if b==0:\n",
    "        return a\n",
    "    return gcd(b,a%b)\n",
    "a=12\n",
    "b=15\n",
    "print(gcd(a,b))"
   ]
  },
  {
   "cell_type": "code",
   "execution_count": null,
   "id": "5d100a19-4ace-4838-88c3-e3159652035e",
   "metadata": {},
   "outputs": [],
   "source": []
  }
 ],
 "metadata": {
  "kernelspec": {
   "display_name": "Python [conda env:base] *",
   "language": "python",
   "name": "conda-base-py"
  },
  "language_info": {
   "codemirror_mode": {
    "name": "ipython",
    "version": 3
   },
   "file_extension": ".py",
   "mimetype": "text/x-python",
   "name": "python",
   "nbconvert_exporter": "python",
   "pygments_lexer": "ipython3",
   "version": "3.12.7"
  }
 },
 "nbformat": 4,
 "nbformat_minor": 5
}
