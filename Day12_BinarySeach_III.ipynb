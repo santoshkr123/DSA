{
 "cells": [
  {
   "cell_type": "code",
   "execution_count": null,
   "id": "b5298b6c-daec-453c-ae17-fd0f6625cdb9",
   "metadata": {},
   "outputs": [],
   "source": [
    "# Count 1s in a Sorted Binary List\n",
    "def firstOcc(arr,x):\n",
    "    low=0\n",
    "    high=len(arr)-1\n",
    "    while low<=high:\n",
    "        mid=(low+high)//2\n",
    "        if arr[mid]<x:\n",
    "            low=mid+1\n",
    "        elif arr[mid]>x:\n",
    "            high=mid-1\n",
    "        else:\n",
    "            if mid==0 or arr[mid-1]!=arr[mid]:\n",
    "                return mid\n",
    "            else:\n",
    "                high=mid-1\n",
    "                \n",
    "\n",
    "def lastOcc(arr,x):\n",
    "    low=0\n",
    "    high=len(arr)-1\n",
    "    while low<=high:\n",
    "        mid=(low+high)//2\n",
    "        if arr[mid]<x:\n",
    "            low=mid+1\n",
    "        elif arr[mid]>x:\n",
    "            high=mid-1\n",
    "        else:\n",
    "            if mid==len(arr)-1 or arr[mid]!=arr[mid+1]:\n",
    "                return mid\n",
    "            else:\n",
    "                low=mid+1\n",
    "     \n",
    "\n",
    "def countOcc(arr,x):\n",
    "    first=firstOcc(arr,x)\n",
    "    if first==-1:\n",
    "        return 0\n",
    "    else:\n",
    "        return lastOcc(arr,x)-first+1\n",
    "\n",
    "\n",
    "arr=[0,0,0,1,1,1,1,1]\n",
    "x=1\n",
    "print(countOcc(arr,x))\n",
    "\n",
    "\n",
    "\n",
    "            \n",
    "            \n",
    "            \n",
    "            \n",
    "            \n",
    "        "
   ]
  },
  {
   "cell_type": "code",
   "execution_count": null,
   "id": "305aefb9-75df-467c-ab73-7519f6d52f9e",
   "metadata": {},
   "outputs": [],
   "source": []
  }
 ],
 "metadata": {
  "kernelspec": {
   "display_name": "Python [conda env:base] *",
   "language": "python",
   "name": "conda-base-py"
  },
  "language_info": {
   "name": ""
  }
 },
 "nbformat": 4,
 "nbformat_minor": 5
}
