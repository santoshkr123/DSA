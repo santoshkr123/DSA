{
 "cells": [
  {
   "cell_type": "markdown",
   "id": "c06c3675-93a3-425b-a0f2-33cbcde5b92d",
   "metadata": {},
   "source": [
    "# sum of natural numbers"
   ]
  },
  {
   "cell_type": "code",
   "execution_count": 4,
   "id": "407c2d5b-79a4-458e-976a-d05dd3d248fa",
   "metadata": {},
   "outputs": [
    {
     "name": "stdin",
     "output_type": "stream",
     "text": [
      "Enter number: 5\n"
     ]
    },
    {
     "name": "stdout",
     "output_type": "stream",
     "text": [
      "Sum of natural numbers is : 15.0\n"
     ]
    }
   ],
   "source": [
    "n=int(input(\"Enter number:\"))\n",
    "sum=n*(n+1)/2\n",
    "print(\"Sum of natural numbers is :\",sum)"
   ]
  },
  {
   "cell_type": "markdown",
   "id": "36e877b3-a2b1-4c12-bdbd-1125f7624303",
   "metadata": {},
   "source": [
    "# count digits"
   ]
  },
  {
   "cell_type": "code",
   "execution_count": 9,
   "id": "ced34081-d964-457c-a3a9-fbbe6aea5b45",
   "metadata": {},
   "outputs": [
    {
     "name": "stdin",
     "output_type": "stream",
     "text": [
      "Enter numbers 9524\n"
     ]
    },
    {
     "name": "stdout",
     "output_type": "stream",
     "text": [
      "Count digit are : 4\n"
     ]
    }
   ],
   "source": [
    "n=int(input(\"Enter numbers\"))\n",
    "res=0\n",
    "while n>0:\n",
    "    n=n//10\n",
    "    res=res+1\n",
    "\n",
    "print(\"Count digit are :\",res)"
   ]
  },
  {
   "cell_type": "code",
   "execution_count": null,
   "id": "7744d5ab-45c2-466f-bc28-ef764cb20f89",
   "metadata": {},
   "outputs": [],
   "source": []
  }
 ],
 "metadata": {
  "kernelspec": {
   "display_name": "Python [conda env:base] *",
   "language": "python",
   "name": "conda-base-py"
  },
  "language_info": {
   "codemirror_mode": {
    "name": "ipython",
    "version": 3
   },
   "file_extension": ".py",
   "mimetype": "text/x-python",
   "name": "python",
   "nbconvert_exporter": "python",
   "pygments_lexer": "ipython3",
   "version": "3.12.7"
  }
 },
 "nbformat": 4,
 "nbformat_minor": 5
}
