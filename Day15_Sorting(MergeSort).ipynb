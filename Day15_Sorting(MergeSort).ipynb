{
 "cells": [
  {
   "cell_type": "markdown",
   "id": "7c129a2a-b671-4c85-ba03-7787fe846c47",
   "metadata": {},
   "source": [
    "# Merge two sorted lists"
   ]
  },
  {
   "cell_type": "code",
   "execution_count": 2,
   "id": "6d3b7d5a-2a75-4792-a01a-04143f3f79c0",
   "metadata": {},
   "outputs": [],
   "source": [
    "def mergeLists(a,b):\n",
    "    res=[]\n",
    "    m=len(a)\n",
    "    n=len(b)\n",
    "    i=0\n",
    "    j=0\n",
    "    while i<m and j<n:\n",
    "        if a[i]<b[j]:\n",
    "            res.append(a[i])\n",
    "            i=i+1\n",
    "        else:\n",
    "            res.append(b[j])\n",
    "            j=j+1\n",
    "    while i<m:\n",
    "        res.append(a[i])\n",
    "        i=i+1\n",
    "    while j<n:\n",
    "        res.append(b[j])\n",
    "        j=j+1\n",
    "    return res    \n",
    "            \n",
    "\n"
   ]
  },
  {
   "cell_type": "markdown",
   "id": "eea8609f-4145-45e2-8ef9-8d67da91ec84",
   "metadata": {},
   "source": [
    "# Merge subarray"
   ]
  },
  {
   "cell_type": "code",
   "execution_count": 5,
   "id": "46093100-b7b2-4a8b-8d71-453827058678",
   "metadata": {},
   "outputs": [],
   "source": [
    "def merge(a,low,mid,high):\n",
    "    left=a[low:mid+1]\n",
    "    right=a[mid+1:high+1]\n",
    "    i=0\n",
    "    j=0\n",
    "    k=low\n",
    "    while i<len(left)and j<len(right):\n",
    "        if left[i]<=right[j]:\n",
    "            a[k]=left[i]\n",
    "            k=k+1\n",
    "            i=i+1\n",
    "        else:\n",
    "            a[k]=right[j]\n",
    "            k=k+1\n",
    "            j=j+1\n",
    "        while i<len(left):\n",
    "            a[k]=left[i]\n",
    "            i=i+1\n",
    "            k=k+1\n",
    "        while j<len(right):\n",
    "            a[k]=right[j]\n",
    "            j=j+1\n",
    "            k=k+1\n",
    "        "
   ]
  },
  {
   "cell_type": "code",
   "execution_count": null,
   "id": "74d6a96e-15f2-4b6c-bcc5-efaadb390974",
   "metadata": {},
   "outputs": [],
   "source": []
  },
  {
   "cell_type": "code",
   "execution_count": null,
   "id": "a227a6e7-da66-44d9-bf04-c73d0bd82449",
   "metadata": {},
   "outputs": [],
   "source": []
  }
 ],
 "metadata": {
  "kernelspec": {
   "display_name": "Python [conda env:base] *",
   "language": "python",
   "name": "conda-base-py"
  },
  "language_info": {
   "codemirror_mode": {
    "name": "ipython",
    "version": 3
   },
   "file_extension": ".py",
   "mimetype": "text/x-python",
   "name": "python",
   "nbconvert_exporter": "python",
   "pygments_lexer": "ipython3",
   "version": "3.12.7"
  }
 },
 "nbformat": 4,
 "nbformat_minor": 5
}
