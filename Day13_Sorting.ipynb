{
 "cells": [
  {
   "cell_type": "markdown",
   "id": "20d741e4-b0a4-4110-bf4d-fc670108f8c3",
   "metadata": {},
   "source": [
    "# sorting in python\n",
    "# list sort() in python"
   ]
  },
  {
   "cell_type": "code",
   "execution_count": 31,
   "id": "cf7d012b-dca9-474b-8046-d454dbd49aae",
   "metadata": {},
   "outputs": [
    {
     "name": "stdout",
     "output_type": "stream",
     "text": [
      "[1, 5, 10, 15]\n"
     ]
    }
   ],
   "source": [
    "l1=[5,10,15,1]\n",
    "l1.sort()\n",
    "print(l1)\n"
   ]
  },
  {
   "cell_type": "code",
   "execution_count": 6,
   "id": "e11019ee-9715-4255-ae0b-7495b69ab5e5",
   "metadata": {},
   "outputs": [
    {
     "name": "stdout",
     "output_type": "stream",
     "text": [
      "[1, 3, 5, 10]\n"
     ]
    }
   ],
   "source": [
    "l2=[1,5,3,10]\n",
    "l2.sort()\n",
    "print(l2)"
   ]
  },
  {
   "cell_type": "code",
   "execution_count": 10,
   "id": "8bc1416e-3cea-4259-847c-c401aabac657",
   "metadata": {},
   "outputs": [
    {
     "name": "stdout",
     "output_type": "stream",
     "text": [
      "['courses', 'gfg', 'ide']\n"
     ]
    }
   ],
   "source": [
    "l3=[\"gfg\",\"ide\",\"courses\"]\n",
    "l3.sort()\n",
    "print(l3)"
   ]
  },
  {
   "cell_type": "code",
   "execution_count": 12,
   "id": "8dfe3df5-e866-44f4-a1ae-64ed88fa4702",
   "metadata": {},
   "outputs": [
    {
     "name": "stdout",
     "output_type": "stream",
     "text": [
      "['gfg', 'python', 'courses']\n",
      "['courses', 'python', 'gfg']\n"
     ]
    }
   ],
   "source": [
    "def MyFun(s):\n",
    "    return len(s)\n",
    "l=[\"gfg\",\"courses\",\"python\"]\n",
    "l.sort(key=MyFun)\n",
    "print(l)\n",
    "l.sort(key=MyFun,reverse=True)\n",
    "print(l)"
   ]
  },
  {
   "cell_type": "markdown",
   "id": "8997f926-f00f-48a8-aaf4-2d7f8bebccf2",
   "metadata": {},
   "source": [
    "# Sorting user defined objects\n",
    "# 1. using a separate method"
   ]
  },
  {
   "cell_type": "code",
   "execution_count": 18,
   "id": "c44d5c29-f744-4b5e-b846-30b7f2235081",
   "metadata": {},
   "outputs": [
    {
     "name": "stdout",
     "output_type": "stream",
     "text": [
      "1 15\n",
      "1 8\n",
      "10 5\n"
     ]
    }
   ],
   "source": [
    "class Point:\n",
    "    def __init__(self, x, y):\n",
    "        self.x = x\n",
    "        self.y = y\n",
    "\n",
    "def Myfun(p):\n",
    "    return p.x\n",
    "\n",
    "l = [Point(1, 15), Point(10, 5), Point(1, 8)]\n",
    "l.sort(key=Myfun)\n",
    "\n",
    "for i in l:\n",
    "    print(i.x, i.y)\n"
   ]
  },
  {
   "cell_type": "markdown",
   "id": "7c45df40-e9cf-468f-b8e0-0bfebe76a63e",
   "metadata": {},
   "source": [
    "# sorted() in python"
   ]
  },
  {
   "cell_type": "code",
   "execution_count": 21,
   "id": "a46f1546-10d5-4fb3-9dc2-82caecacf302",
   "metadata": {},
   "outputs": [
    {
     "name": "stdout",
     "output_type": "stream",
     "text": [
      "[10, 14, 20]\n"
     ]
    }
   ],
   "source": [
    "l=[10,20,14]\n",
    "ls=sorted(l)\n",
    "print(ls)"
   ]
  },
  {
   "cell_type": "code",
   "execution_count": 23,
   "id": "62eed8ca-9c71-4851-a1ba-a6a804100dd0",
   "metadata": {},
   "outputs": [
    {
     "name": "stdout",
     "output_type": "stream",
     "text": [
      "[-15, 10, -2, 1]\n"
     ]
    }
   ],
   "source": [
    "l=[10,-15,-2,1]\n",
    "ls=sorted(l,key=abs,reverse=True)\n",
    "print(ls)"
   ]
  },
  {
   "cell_type": "code",
   "execution_count": 25,
   "id": "06bef737-8932-449b-8f7d-ecc08d0471ee",
   "metadata": {},
   "outputs": [
    {
     "name": "stdout",
     "output_type": "stream",
     "text": [
      "[10, 12, 5, 1]\n"
     ]
    }
   ],
   "source": [
    "l=[10,12,5,1]\n",
    "print(l)"
   ]
  },
  {
   "cell_type": "code",
   "execution_count": 27,
   "id": "5de06737-c810-48d8-ab9e-741ef94541b5",
   "metadata": {},
   "outputs": [
    {
     "name": "stdout",
     "output_type": "stream",
     "text": [
      "['courses', 'gfg', 'python']\n"
     ]
    }
   ],
   "source": [
    "s={\"gfg\",\"courses\",\"python\"}\n",
    "print(sorted(s))"
   ]
  },
  {
   "cell_type": "code",
   "execution_count": 35,
   "id": "2873a4e9-bbd9-4d0f-a714-f2449f966985",
   "metadata": {},
   "outputs": [
    {
     "name": "stdout",
     "output_type": "stream",
     "text": [
      "['f', 'g', 'g']\n"
     ]
    }
   ],
   "source": [
    "st=\"gfg\"\n",
    "print(sorted(st))"
   ]
  },
  {
   "cell_type": "code",
   "execution_count": 37,
   "id": "e6fd8ff6-a39d-46c8-ac1e-c70b29e76d92",
   "metadata": {},
   "outputs": [
    {
     "name": "stdout",
     "output_type": "stream",
     "text": [
      "[5, 10, 15]\n"
     ]
    }
   ],
   "source": [
    "d={10:\"gfg\",15:\"ide\",5:\"courses\"}\n",
    "print(sorted(d))"
   ]
  },
  {
   "cell_type": "code",
   "execution_count": null,
   "id": "b8432140-88e7-44ba-80ca-28b59e227ab2",
   "metadata": {},
   "outputs": [],
   "source": []
  }
 ],
 "metadata": {
  "kernelspec": {
   "display_name": "Python [conda env:base] *",
   "language": "python",
   "name": "conda-base-py"
  },
  "language_info": {
   "codemirror_mode": {
    "name": "ipython",
    "version": 3
   },
   "file_extension": ".py",
   "mimetype": "text/x-python",
   "name": "python",
   "nbconvert_exporter": "python",
   "pygments_lexer": "ipython3",
   "version": "3.12.7"
  }
 },
 "nbformat": 4,
 "nbformat_minor": 5
}
