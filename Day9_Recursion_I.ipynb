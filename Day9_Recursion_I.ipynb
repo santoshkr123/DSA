{
 "cells": [
  {
   "cell_type": "markdown",
   "id": "f8788241-1205-4217-8a6f-a8d3d8670627",
   "metadata": {},
   "source": [
    "# Recursion"
   ]
  },
  {
   "cell_type": "code",
   "execution_count": 7,
   "id": "a82d7a47-f53a-4dc6-b202-cde326177f0d",
   "metadata": {},
   "outputs": [
    {
     "name": "stdout",
     "output_type": "stream",
     "text": [
      "3\n",
      "2\n",
      "3\n"
     ]
    }
   ],
   "source": [
    "def fun(n):\n",
    "    if n==0:\n",
    "        return\n",
    "    print(n)\n",
    "    print(n-1)\n",
    "    print(n)\n",
    "\n",
    "fun(3)\n"
   ]
  },
  {
   "cell_type": "code",
   "execution_count": 9,
   "id": "fb44174d-24d3-47df-8380-7f334ce8e1b7",
   "metadata": {},
   "outputs": [
    {
     "name": "stdout",
     "output_type": "stream",
     "text": [
      "1\n",
      "2\n",
      "1\n",
      "3\n",
      "1\n",
      "2\n",
      "1\n"
     ]
    }
   ],
   "source": [
    "def fun(n):\n",
    "    if n==0:\n",
    "        return\n",
    "    fun(n-1)\n",
    "    print(n)\n",
    "    fun(n-1)\n",
    "\n",
    "fun(3)\n"
   ]
  },
  {
   "cell_type": "code",
   "execution_count": 11,
   "id": "fc51a275-de3b-4fd8-a84f-75be85df773d",
   "metadata": {},
   "outputs": [
    {
     "data": {
      "text/plain": [
       "4"
      ]
     },
     "execution_count": 11,
     "metadata": {},
     "output_type": "execute_result"
    }
   ],
   "source": [
    "def fun(n):\n",
    "    if n<=1:\n",
    "        return 0\n",
    "    else:\n",
    "        return 1 + fun(n//2)\n",
    "\n",
    "fun(16)"
   ]
  },
  {
   "cell_type": "code",
   "execution_count": 13,
   "id": "8a385dd4-b922-4332-a130-7fffb5c47e21",
   "metadata": {},
   "outputs": [
    {
     "data": {
      "text/plain": [
       "0"
      ]
     },
     "execution_count": 13,
     "metadata": {},
     "output_type": "execute_result"
    }
   ],
   "source": [
    "def fun(n):\n",
    "    if n>=1:\n",
    "        return 0\n",
    "    else:\n",
    "        return 1+fun(n//2)\n",
    "\n",
    "fun(16)"
   ]
  },
  {
   "cell_type": "code",
   "execution_count": 15,
   "id": "8a7e67f8-c3e2-401a-a6f9-8ca765a0694c",
   "metadata": {},
   "outputs": [
    {
     "name": "stdout",
     "output_type": "stream",
     "text": [
      "1\n",
      "1\n",
      "0\n",
      "1\n"
     ]
    }
   ],
   "source": [
    "def fun(n):\n",
    "    if n==0:\n",
    "        return \n",
    "    fun(n//2)\n",
    "    print(n%2)\n",
    "\n",
    "fun(13)\n"
   ]
  },
  {
   "cell_type": "code",
   "execution_count": null,
   "id": "36e74b14-0539-4bca-941a-853584a8ae2d",
   "metadata": {},
   "outputs": [],
   "source": []
  }
 ],
 "metadata": {
  "kernelspec": {
   "display_name": "Python [conda env:base] *",
   "language": "python",
   "name": "conda-base-py"
  },
  "language_info": {
   "codemirror_mode": {
    "name": "ipython",
    "version": 3
   },
   "file_extension": ".py",
   "mimetype": "text/x-python",
   "name": "python",
   "nbconvert_exporter": "python",
   "pygments_lexer": "ipython3",
   "version": "3.12.7"
  }
 },
 "nbformat": 4,
 "nbformat_minor": 5
}
