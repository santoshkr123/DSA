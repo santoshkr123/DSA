{
 "cells": [
  {
   "cell_type": "markdown",
   "id": "35a8f774-5a73-46ae-85c2-45be54ea3dc6",
   "metadata": {},
   "source": [
    "# List\n",
    "# average or mean of list"
   ]
  },
  {
   "cell_type": "code",
   "execution_count": 4,
   "id": "dc5979a9-df50-4c9f-9dfb-77c466025df0",
   "metadata": {},
   "outputs": [
    {
     "name": "stdout",
     "output_type": "stream",
     "text": [
      "25.0\n"
     ]
    }
   ],
   "source": [
    "def average(l):\n",
    "    sum=0\n",
    "    for i in l:\n",
    "        sum=sum+i\n",
    "    n=len(l)\n",
    "    return sum/n\n",
    "\n",
    "l=[10,20,30,40]\n",
    "print(average(l))\n",
    "        "
   ]
  },
  {
   "cell_type": "markdown",
   "id": "55c1d47b-42c4-44a5-97d0-5b581304eac9",
   "metadata": {},
   "source": [
    "# separate Even and odd from list"
   ]
  },
  {
   "cell_type": "code",
   "execution_count": 7,
   "id": "d47f1ef9-49d3-4967-9f40-8eff4b8b063f",
   "metadata": {},
   "outputs": [
    {
     "name": "stdout",
     "output_type": "stream",
     "text": [
      "[12, 20]\n",
      "[11, 15]\n"
     ]
    }
   ],
   "source": [
    "def getEvenOdd(l):\n",
    "    even=[]\n",
    "    odd=[]\n",
    "    for i in l:\n",
    "        if i%2==0:\n",
    "            even.append(i)\n",
    "        else:\n",
    "            odd.append(i)\n",
    "    return even,odd        \n",
    "            \n",
    "\n",
    "l=[12,11,15,20]\n",
    "even,odd=getEvenOdd(l)\n",
    "print(even)\n",
    "print(odd)"
   ]
  },
  {
   "cell_type": "markdown",
   "id": "ae6f3f6e-f7d1-40b6-afe4-fdfeb3bfa223",
   "metadata": {},
   "source": [
    "# get smaller elements"
   ]
  },
  {
   "cell_type": "code",
   "execution_count": 12,
   "id": "cab53482-b8b7-43ac-934f-159616279502",
   "metadata": {},
   "outputs": [
    {
     "name": "stdout",
     "output_type": "stream",
     "text": [
      "[8, 3, 7]\n"
     ]
    }
   ],
   "source": [
    "def getSmaller(l,x):\n",
    "    res=[]\n",
    "    for e in l:\n",
    "        if e<x:\n",
    "            res.append(e)\n",
    "    return res\n",
    "\n",
    "l=[8,10020,40,3,7]\n",
    "x=10\n",
    "print(getSmaller(l,x))"
   ]
  },
  {
   "cell_type": "code",
   "execution_count": null,
   "id": "71864885-1ec6-4826-b04e-ec14b4c99b73",
   "metadata": {},
   "outputs": [],
   "source": []
  }
 ],
 "metadata": {
  "kernelspec": {
   "display_name": "Python [conda env:base] *",
   "language": "python",
   "name": "conda-base-py"
  },
  "language_info": {
   "codemirror_mode": {
    "name": "ipython",
    "version": 3
   },
   "file_extension": ".py",
   "mimetype": "text/x-python",
   "name": "python",
   "nbconvert_exporter": "python",
   "pygments_lexer": "ipython3",
   "version": "3.12.7"
  }
 },
 "nbformat": 4,
 "nbformat_minor": 5
}
