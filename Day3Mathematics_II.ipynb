{
 "cells": [
  {
   "cell_type": "markdown",
   "id": "80ce4cfa-684d-4776-a8fb-2c0e31ce35ff",
   "metadata": {},
   "source": [
    "# LCM od two number"
   ]
  },
  {
   "cell_type": "markdown",
   "id": "1437afb5-6e86-40b7-ab48-5954e510a397",
   "metadata": {},
   "source": [
    "# Naive approach"
   ]
  },
  {
   "cell_type": "code",
   "execution_count": 10,
   "id": "684a9912-7570-4b8d-a5d0-874faa87acdd",
   "metadata": {},
   "outputs": [
    {
     "name": "stdout",
     "output_type": "stream",
     "text": [
      "6\n"
     ]
    }
   ],
   "source": [
    "def lcm(a,b):\n",
    "    res=max(a,b)\n",
    "    while True:\n",
    "        if res%a==0 and res%b==0:\n",
    "            return res\n",
    "        res+=1\n",
    "    return res    \n",
    "\n",
    "a=2\n",
    "b=6\n",
    "print(lcm(a,b))\n",
    "\n",
    "\n",
    "            \n",
    "            \n",
    "    "
   ]
  },
  {
   "cell_type": "markdown",
   "id": "7fa9d2db-2282-404e-8cc5-f597800d66ba",
   "metadata": {},
   "source": [
    "# Efficient Solution"
   ]
  },
  {
   "cell_type": "code",
   "execution_count": 13,
   "id": "372018b5-1f1a-445c-a780-b621fef29923",
   "metadata": {},
   "outputs": [
    {
     "name": "stdout",
     "output_type": "stream",
     "text": [
      "24\n"
     ]
    }
   ],
   "source": [
    "def gcd(a,b):\n",
    "    if b==0:\n",
    "        return a\n",
    "    return gcd(b,a%b)\n",
    "\n",
    "def lcm(a,b):\n",
    "    return a*b\n",
    "\n",
    "a=4\n",
    "b=6\n",
    "print(lcm(a,b))\n",
    "\n"
   ]
  },
  {
   "cell_type": "markdown",
   "id": "870897f4-1d89-4336-bd57-37a852584e27",
   "metadata": {},
   "source": [
    "# Check for Prime Number\n",
    "# Naive Approach"
   ]
  },
  {
   "cell_type": "code",
   "execution_count": 24,
   "id": "fe77c1c9-7b66-4810-ac7b-55e421d748a4",
   "metadata": {},
   "outputs": [
    {
     "name": "stdout",
     "output_type": "stream",
     "text": [
      "true\n"
     ]
    }
   ],
   "source": [
    "def isPrime(n):\n",
    "    if n==1:\n",
    "        return False\n",
    "    for i in range(2,n):\n",
    "        if n%i==0:\n",
    "            return False\n",
    "    return True\n",
    "\n",
    "n=101\n",
    "print(\"true\") if isPrime(n) else print(\"false\")\n",
    "\n"
   ]
  },
  {
   "cell_type": "markdown",
   "id": "36c38733-6f36-489f-8951-5883692112a8",
   "metadata": {},
   "source": [
    "# 2nd approach"
   ]
  },
  {
   "cell_type": "code",
   "execution_count": null,
   "id": "829dbcd2-3a93-4f8f-8146-764ef122b8ad",
   "metadata": {},
   "outputs": [],
   "source": [
    "def isPrime(n):\n",
    "    if n == 1:\n",
    "        return False\n",
    "    i = 2\n",
    "    while i * i <= n:\n",
    "        if n % i == 0:\n",
    "            return False\n",
    "        i += 1\n",
    "    return True\n",
    "\n",
    "n = 9\n",
    "\n",
    "print(\"True\") if isPrime(n) else print(\"False\")\n"
   ]
  },
  {
   "cell_type": "code",
   "execution_count": null,
   "id": "f34afd09-cce7-4088-894e-4024c4cdbcae",
   "metadata": {},
   "outputs": [],
   "source": []
  }
 ],
 "metadata": {
  "kernelspec": {
   "display_name": "Python [conda env:base] *",
   "language": "python",
   "name": "conda-base-py"
  },
  "language_info": {
   "codemirror_mode": {
    "name": "ipython",
    "version": 3
   },
   "file_extension": ".py",
   "mimetype": "text/x-python",
   "name": "python",
   "nbconvert_exporter": "python",
   "pygments_lexer": "ipython3",
   "version": "3.12.7"
  }
 },
 "nbformat": 4,
 "nbformat_minor": 5
}
