{
 "cells": [
  {
   "cell_type": "markdown",
   "id": "b3ca5039-99c1-44eb-a0e9-2ed1505165a6",
   "metadata": {},
   "source": [
    "# check if a list is sorted"
   ]
  },
  {
   "cell_type": "code",
   "execution_count": 3,
   "id": "f217a5ed-e9c2-49cc-9c85-d5ac67b3498e",
   "metadata": {},
   "outputs": [
    {
     "name": "stdout",
     "output_type": "stream",
     "text": [
      "No\n"
     ]
    }
   ],
   "source": [
    "def isSorted(l):\n",
    "    i=1\n",
    "    while i<len(l):\n",
    "        if l[i]<l[i-1]:\n",
    "            return False\n",
    "        i=i+1\n",
    "    return True\n",
    "\n",
    "l=[10,20,30,15,40]\n",
    "if isSorted(l):\n",
    "    print(\"Yes\")\n",
    "else:\n",
    "    print(\"No\")\n"
   ]
  },
  {
   "cell_type": "code",
   "execution_count": 5,
   "id": "80afd6af-623a-46f6-97e8-c843fa088827",
   "metadata": {},
   "outputs": [
    {
     "name": "stdout",
     "output_type": "stream",
     "text": [
      "No\n"
     ]
    }
   ],
   "source": [
    "def isSorted(l):\n",
    "    sl=sorted(l)\n",
    "    if sl==l:\n",
    "        return True\n",
    "    else:\n",
    "        return False\n",
    "\n",
    "l=[10,20,5,30]\n",
    "if isSorted(l):\n",
    "    print(\"Yes\")\n",
    "\n",
    "else:\n",
    "    print(\"No\")\n"
   ]
  },
  {
   "cell_type": "code",
   "execution_count": 11,
   "id": "fed930cb-1232-4455-bcf1-2d3c2e06e064",
   "metadata": {},
   "outputs": [
    {
     "name": "stdout",
     "output_type": "stream",
     "text": [
      "[30, 20, 10]\n"
     ]
    }
   ],
   "source": [
    "def reverseList(l):\n",
    "    s=0\n",
    "    e=len(l)-1\n",
    "    while s<e:\n",
    "        l[s],l[e]=l[e],l[s]\n",
    "        s=s+1\n",
    "        e=e-1\n",
    "\n",
    "l=[10,20,30]\n",
    "reverseList(l)\n",
    "print(l)\n"
   ]
  },
  {
   "cell_type": "markdown",
   "id": "7e52e99e-bd18-4091-908a-8e92f4506e8d",
   "metadata": {},
   "source": [
    "# Remove duplicates sorted array\n",
    "# naive solution"
   ]
  },
  {
   "cell_type": "code",
   "execution_count": null,
   "id": "3cc70e01-1ec4-4063-9969-895093361713",
   "metadata": {},
   "outputs": [],
   "source": [
    "def removedup(arr,n):\n",
    "    temp=[0]*n\n",
    "    temp[0]=arr[0]\n",
    "    res=1\n",
    "    for i in range(1,n):\n",
    "        if temp[res-1]!=arr[i]:\n",
    "            temp[res]=arr[i]\n",
    "            res+=1\n",
    "    for i in range(0,res):\n",
    "        arr[i]=temp[i]\n",
    "    return res    \n",
    "        \n",
    "\n",
    "\n",
    "        \n",
    "        \n",
    "        "
   ]
  },
  {
   "cell_type": "markdown",
   "id": "9697b0ea-9bff-4ad3-86ac-444abaa305da",
   "metadata": {},
   "source": [
    "# efficient solution"
   ]
  },
  {
   "cell_type": "code",
   "execution_count": 24,
   "id": "c44027a4-d744-4ebb-8acd-797d06bc90f4",
   "metadata": {},
   "outputs": [
    {
     "name": "stdout",
     "output_type": "stream",
     "text": [
      "3\n",
      "[10, 20, 30]\n"
     ]
    }
   ],
   "source": [
    "def removedup(arr,n):\n",
    "    res=1\n",
    "    for i in range(1,n):\n",
    "        if arr[res-1]!=arr[i]:\n",
    "            arr[res]=arr[i]\n",
    "            res+=1\n",
    "    return res\n",
    "\n",
    "arr=[10,20,30,30,30,30]\n",
    "r=removedup(arr,6)\n",
    "print(r)\n",
    "print(arr[:r])\n",
    "\n"
   ]
  },
  {
   "cell_type": "markdown",
   "id": "e3106ee4-10e9-4fc2-8720-baaa9f4e2238",
   "metadata": {},
   "source": [
    "# RotateByOne"
   ]
  },
  {
   "cell_type": "code",
   "execution_count": null,
   "id": "cd6db4fe-f722-4f9e-9004-b399418ab3d8",
   "metadata": {},
   "outputs": [],
   "source": [
    "def rotateByOne(l):\n",
    "    n=len(l)\n",
    "    x=l[0]\n",
    "    for i in range(1,n):\n",
    "        l[i-1]=l[i]\n",
    "    l[n-1]=x\n",
    "l=[10,20,30,40]\n",
    "rotateByOne()"
   ]
  }
 ],
 "metadata": {
  "kernelspec": {
   "display_name": "Python [conda env:base] *",
   "language": "python",
   "name": "conda-base-py"
  },
  "language_info": {
   "codemirror_mode": {
    "name": "ipython",
    "version": 3
   },
   "file_extension": ".py",
   "mimetype": "text/x-python",
   "name": "python",
   "nbconvert_exporter": "python",
   "pygments_lexer": "ipython3",
   "version": "3.12.7"
  }
 },
 "nbformat": 4,
 "nbformat_minor": 5
}
