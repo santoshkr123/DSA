{
 "cells": [
  {
   "cell_type": "markdown",
   "id": "3a68a17c-1b74-47f6-ac5c-f3c930c6848e",
   "metadata": {},
   "source": [
    "# palindrom check using Recursion"
   ]
  },
  {
   "cell_type": "code",
   "execution_count": null,
   "id": "7b15f39e-ba38-4830-90ab-ecf650432ea6",
   "metadata": {},
   "outputs": [],
   "source": [
    "def isPalindrome(str,start,end):\n",
    "    if start>=end:\n",
    "        return True\n",
    "    return (str[start]==str[end] and \n",
    "    isPalindrome(str,start+1,end-1))\n",
    "\n",
    "str1=\"madam\"\n",
    "print(isPalindrome(str1,0,len(str1)-1))"
   ]
  },
  {
   "cell_type": "markdown",
   "id": "7df0370f-e344-4d79-9bbf-d6c130af6a34",
   "metadata": {},
   "source": [
    "# sum of digits"
   ]
  },
  {
   "cell_type": "code",
   "execution_count": 16,
   "id": "ba83f90c-fcc8-4379-ae68-ec4a6dc150ab",
   "metadata": {},
   "outputs": [
    {
     "data": {
      "text/plain": [
       "6"
      ]
     },
     "execution_count": 16,
     "metadata": {},
     "output_type": "execute_result"
    }
   ],
   "source": [
    "def dSum(n):\n",
    "    if n<10:\n",
    "        return n\n",
    "    return dSum(n//10)+n%10\n",
    "dSum(123)"
   ]
  },
  {
   "cell_type": "markdown",
   "id": "c5fee97d-a751-485c-85f3-de8adc2ade11",
   "metadata": {},
   "source": [
    "# Factorial number"
   ]
  },
  {
   "cell_type": "code",
   "execution_count": 19,
   "id": "e12417b2-309a-497f-a3cf-87aaaf9cea85",
   "metadata": {},
   "outputs": [
    {
     "data": {
      "text/plain": [
       "120"
      ]
     },
     "execution_count": 19,
     "metadata": {},
     "output_type": "execute_result"
    }
   ],
   "source": [
    "def fact(n):\n",
    "    if n==0:\n",
    "        return 1\n",
    "    return n*fact(n-1)\n",
    "fact(5)"
   ]
  },
  {
   "cell_type": "markdown",
   "id": "a2186995-2f3f-4769-9882-cd2b712341c3",
   "metadata": {},
   "source": [
    "# Fibonacci series"
   ]
  },
  {
   "cell_type": "code",
   "execution_count": 22,
   "id": "00109c52-4010-472e-8026-c5c1c8ca6b5c",
   "metadata": {},
   "outputs": [
    {
     "data": {
      "text/plain": [
       "8"
      ]
     },
     "execution_count": 22,
     "metadata": {},
     "output_type": "execute_result"
    }
   ],
   "source": [
    "def fib(n):\n",
    "    if n==0:\n",
    "        return 0\n",
    "    if n==1:\n",
    "        return 1\n",
    "    return fib(n-1)+fib(n-2)\n",
    "fib(6)"
   ]
  },
  {
   "cell_type": "code",
   "execution_count": 24,
   "id": "bacdd8aa-a158-4b05-af60-fb5652c00a0b",
   "metadata": {},
   "outputs": [
    {
     "name": "stdout",
     "output_type": "stream",
     "text": [
      "3\n",
      "2\n"
     ]
    }
   ],
   "source": [
    "def fun(n):\n",
    "    if n<=1:\n",
    "        return \n",
    "    print(n)\n",
    "    fun(n-1)\n",
    "\n",
    "fun(3)\n"
   ]
  },
  {
   "cell_type": "code",
   "execution_count": null,
   "id": "9ef90b62-ff14-44bb-8491-a0fc5d3f192b",
   "metadata": {},
   "outputs": [],
   "source": []
  }
 ],
 "metadata": {
  "kernelspec": {
   "display_name": "Python [conda env:base] *",
   "language": "python",
   "name": "conda-base-py"
  },
  "language_info": {
   "codemirror_mode": {
    "name": "ipython",
    "version": 3
   },
   "file_extension": ".py",
   "mimetype": "text/x-python",
   "name": "python",
   "nbconvert_exporter": "python",
   "pygments_lexer": "ipython3",
   "version": "3.12.7"
  }
 },
 "nbformat": 4,
 "nbformat_minor": 5
}
